{
 "cells": [
  {
   "cell_type": "code",
   "execution_count": 30,
   "metadata": {},
   "outputs": [],
   "source": [
    "%matplotlib inline\n",
    "from pico import Pico\n",
    "import re\n",
    "import xarray as xr\n",
    "import pylab as pl\n",
    "import numpy as np\n",
    "import bokeh as bk\n",
    "import holoviews as hv\n",
    "import pandas as pd\n",
    "import xarray as xr\n",
    "from pprint import pprint\n"
   ]
  },
  {
   "cell_type": "code",
   "execution_count": 16,
   "metadata": {},
   "outputs": [],
   "source": [
    "csv_file_name = './data/070917/Air_Sweep_20170712-0002.csv'\n",
    "p = Pico(csv_file_name )\n",
    "p\n",
    "df = p.df.copy()"
   ]
  },
  {
   "cell_type": "code",
   "execution_count": 17,
   "metadata": {},
   "outputs": [
    {
     "data": {
      "text/html": [
       "<div>\n",
       "<style>\n",
       "    .dataframe thead tr:only-child th {\n",
       "        text-align: right;\n",
       "    }\n",
       "\n",
       "    .dataframe thead th {\n",
       "        text-align: left;\n",
       "    }\n",
       "\n",
       "    .dataframe tbody tr th {\n",
       "        vertical-align: top;\n",
       "    }\n",
       "</style>\n",
       "<table border=\"1\" class=\"dataframe\">\n",
       "  <thead>\n",
       "    <tr style=\"text-align: right;\">\n",
       "      <th></th>\n",
       "      <th>t</th>\n",
       "      <th>a</th>\n",
       "      <th>b</th>\n",
       "      <th>c</th>\n",
       "    </tr>\n",
       "  </thead>\n",
       "  <tbody>\n",
       "    <tr>\n",
       "      <th>0</th>\n",
       "      <td>-0.000001</td>\n",
       "      <td>-0.017396</td>\n",
       "      <td>-0.151830</td>\n",
       "      <td>-0.005799</td>\n",
       "    </tr>\n",
       "    <tr>\n",
       "      <th>1</th>\n",
       "      <td>-0.000000</td>\n",
       "      <td>-0.033509</td>\n",
       "      <td>-0.148381</td>\n",
       "      <td>-0.002564</td>\n",
       "    </tr>\n",
       "    <tr>\n",
       "      <th>2</th>\n",
       "      <td>0.000001</td>\n",
       "      <td>-0.046159</td>\n",
       "      <td>-0.145253</td>\n",
       "      <td>0.005493</td>\n",
       "    </tr>\n",
       "    <tr>\n",
       "      <th>3</th>\n",
       "      <td>0.000002</td>\n",
       "      <td>-0.028993</td>\n",
       "      <td>-0.148149</td>\n",
       "      <td>-0.020875</td>\n",
       "    </tr>\n",
       "    <tr>\n",
       "      <th>4</th>\n",
       "      <td>0.000003</td>\n",
       "      <td>-0.020371</td>\n",
       "      <td>-0.143254</td>\n",
       "      <td>-0.020447</td>\n",
       "    </tr>\n",
       "  </tbody>\n",
       "</table>\n",
       "</div>"
      ],
      "text/plain": [
       "          t         a         b         c\n",
       "0 -0.000001 -0.017396 -0.151830 -0.005799\n",
       "1 -0.000000 -0.033509 -0.148381 -0.002564\n",
       "2  0.000001 -0.046159 -0.145253  0.005493\n",
       "3  0.000002 -0.028993 -0.148149 -0.020875\n",
       "4  0.000003 -0.020371 -0.143254 -0.020447"
      ]
     },
     "execution_count": 17,
     "metadata": {},
     "output_type": "execute_result"
    }
   ],
   "source": [
    "p.df.head()"
   ]
  },
  {
   "cell_type": "code",
   "execution_count": 47,
   "metadata": {},
   "outputs": [
    {
     "data": {
      "text/html": [
       "<div>\n",
       "<style>\n",
       "    .dataframe thead tr:only-child th {\n",
       "        text-align: right;\n",
       "    }\n",
       "\n",
       "    .dataframe thead th {\n",
       "        text-align: left;\n",
       "    }\n",
       "\n",
       "    .dataframe tbody tr th {\n",
       "        vertical-align: top;\n",
       "    }\n",
       "</style>\n",
       "<table border=\"1\" class=\"dataframe\">\n",
       "  <thead>\n",
       "    <tr style=\"text-align: right;\">\n",
       "      <th></th>\n",
       "      <th>t</th>\n",
       "      <th>rob</th>\n",
       "      <th>rich</th>\n",
       "      <th>c</th>\n",
       "    </tr>\n",
       "    <tr>\n",
       "      <th>index</th>\n",
       "      <th></th>\n",
       "      <th></th>\n",
       "      <th></th>\n",
       "      <th></th>\n",
       "    </tr>\n",
       "  </thead>\n",
       "  <tbody>\n",
       "    <tr>\n",
       "      <th>0</th>\n",
       "      <td>-0.000001</td>\n",
       "      <td>-0.017340</td>\n",
       "      <td>-0.151814</td>\n",
       "      <td>-0.006099</td>\n",
       "    </tr>\n",
       "    <tr>\n",
       "      <th>1</th>\n",
       "      <td>0.000000</td>\n",
       "      <td>-0.033442</td>\n",
       "      <td>-0.148372</td>\n",
       "      <td>-0.002439</td>\n",
       "    </tr>\n",
       "    <tr>\n",
       "      <th>2</th>\n",
       "      <td>0.000001</td>\n",
       "      <td>-0.046138</td>\n",
       "      <td>-0.145229</td>\n",
       "      <td>0.006099</td>\n",
       "    </tr>\n",
       "    <tr>\n",
       "      <th>3</th>\n",
       "      <td>0.000002</td>\n",
       "      <td>-0.029107</td>\n",
       "      <td>-0.148147</td>\n",
       "      <td>-0.020735</td>\n",
       "    </tr>\n",
       "    <tr>\n",
       "      <th>4</th>\n",
       "      <td>0.000003</td>\n",
       "      <td>-0.020437</td>\n",
       "      <td>-0.143284</td>\n",
       "      <td>-0.020735</td>\n",
       "    </tr>\n",
       "  </tbody>\n",
       "</table>\n",
       "</div>"
      ],
      "text/plain": [
       "              t       rob      rich         c\n",
       "index                                        \n",
       "0     -0.000001 -0.017340 -0.151814 -0.006099\n",
       "1      0.000000 -0.033442 -0.148372 -0.002439\n",
       "2      0.000001 -0.046138 -0.145229  0.006099\n",
       "3      0.000002 -0.029107 -0.148147 -0.020735\n",
       "4      0.000003 -0.020437 -0.143284 -0.020735"
      ]
     },
     "execution_count": 47,
     "metadata": {},
     "output_type": "execute_result"
    }
   ],
   "source": [
    "class Data:\n",
    "    CURRENT_VERSION = '1.0.0'\n",
    "    def __init__(self, bits=14, dtype=None):\n",
    "        self.version = self.CURRENT_VERSION\n",
    "        self.bits = bits\n",
    "        if dtype is None:\n",
    "            self.dtype = np.int16\n",
    "        else:\n",
    "            self.dtype = dtype\n",
    "            \n",
    "        self.meta = {\n",
    "            '__version__': self.version,\n",
    "            '__dtype__': self.dtype.__name__,\n",
    "            '__bits__': self.bits,\n",
    "        }\n",
    "        \n",
    "    def compress_data_frame(self, df):\n",
    "        # save meta info needed to reconstitute time\n",
    "        self.meta['__delta_t__'] = delta_t = df.t.diff().median()\n",
    "        self.meta['__start_index__'] = int(np.round(df.t.iloc[0] / delta_t))\n",
    "        \n",
    "        # no longer need time in the dataframe\n",
    "        df.drop('t', axis=1, inplace=True)\n",
    "        \n",
    "        #  loop over all other columns saving scale values and transforming to dtype\n",
    "        for col in df.columns:\n",
    "            scale = df.loc[:, col].abs().max() / 2 ** self.bits\n",
    "            self.meta['__scale_{}__'.format(col)] = scale\n",
    "            df.loc[:, col] = (df.loc[:, col] / scale).round().astype(self.dtype)\n",
    "        return df\n",
    "    \n",
    "    def csv_to_netcdf(self, csv_file_name, netcdf_file_name, **attrs):\n",
    "        # store any additional attributes in the meta dict\n",
    "        self.meta.update(**attrs)\n",
    "        \n",
    "        # load a pico dataframe from the csv file\n",
    "        df = Pico(csv_file_name).df\n",
    "        \n",
    "        # compress the dataframe and store meta information for reconstitution\n",
    "        df = self.compress_data_frame(df)\n",
    "        \n",
    "        # create an xarray dataset from the dataframe\n",
    "        ds = xr.Dataset.from_dataframe(df)\n",
    "        \n",
    "        # set the meta information on the array\n",
    "        ds.attrs = self.meta\n",
    "        \n",
    "        # write to netcdf\n",
    "        ds.to_netcdf(netcdf_file_name)\n",
    "        \n",
    "    def load(self, netcdf_file_name, channel_mappings=None):\n",
    "        if channel_mappings is None:\n",
    "            channel_mappings = {}\n",
    "            \n",
    "        specified_channels = set(channel_mappings.keys())\n",
    "        allowed_channels = set('abcd')\n",
    "        bad_channels = specified_channels - allowed_channels\n",
    "        if bad_channels:\n",
    "            raise ValueError('Channel names must be taken from {}'.format(allowed_channels))\n",
    "        # load the data and extract the meta\n",
    "        ds = xr.open_dataset(netcdf_file_name)\n",
    "        self.meta = ds.attrs\n",
    "        \n",
    "        # extract the scale mapping for all columns\n",
    "        rex_scale = re.compile(r'__scale_([a-z])__')\n",
    "        scales = {}\n",
    "        for key, val in self.meta.items():\n",
    "            m = rex_scale.match(key)\n",
    "            if m:\n",
    "                col = m.group(1)\n",
    "                scales[col] = val\n",
    "                \n",
    "        # create a dataframe\n",
    "        df = ds.to_dataframe()\n",
    "        \n",
    "        # reconstitute time\n",
    "        df.insert(0, 't', range(len(df)))\n",
    "        df.loc[:, 't'] = (self.meta['__start_index__'] + df.t) * self.meta['__delta_t__']\n",
    "        \n",
    "        # scale columns\n",
    "        for col, scale in scales.items():\n",
    "            df.loc[:, col] = scale * df.loc[:, col]\n",
    "            \n",
    "        # rename channels\n",
    "        df.rename(columns=channel_mappings, inplace=True)\n",
    "        \n",
    "        # return the dataframe\n",
    "        return df\n",
    "        \n",
    "data = Data()\n",
    "df = data.load('rob.nc', channel_mappings=dict(a='rob', b='rich'))        \n",
    "df.head()\n",
    "        \n",
    "        \n",
    "        \n",
    "    \n",
    "        "
   ]
  },
  {
   "cell_type": "code",
   "execution_count": 48,
   "metadata": {},
   "outputs": [
    {
     "data": {
      "text/plain": [
       "OrderedDict([('__version__', '1.0.0'),\n",
       "             ('__dtype__', 'int16'),\n",
       "             ('__bits__', 14),\n",
       "             ('first', 'rob'),\n",
       "             ('last', 'decarvalho'),\n",
       "             ('age', 45),\n",
       "             ('height', 6.0099999999999998),\n",
       "             ('__delta_t__', 1.0000000000010001e-06),\n",
       "             ('__start_index__', -1),\n",
       "             ('__scale_a__', 0.00030965092468261722),\n",
       "             ('__scale_b__', 7.482196044921874e-05),\n",
       "             ('__scale_c__', 0.0012197344970703125)])"
      ]
     },
     "execution_count": 48,
     "metadata": {},
     "output_type": "execute_result"
    }
   ],
   "source": [
    "data.meta"
   ]
  },
  {
   "cell_type": "code",
   "execution_count": null,
   "metadata": {
    "collapsed": true
   },
   "outputs": [],
   "source": []
  },
  {
   "cell_type": "code",
   "execution_count": 46,
   "metadata": {},
   "outputs": [],
   "source": [
    "Data().csv_to_netcdf(csv_file_name, 'rob.nc', first='rob', last='decarvalho', age=45, height=6.01)"
   ]
  },
  {
   "cell_type": "code",
   "execution_count": null,
   "metadata": {
    "collapsed": true
   },
   "outputs": [],
   "source": []
  },
  {
   "cell_type": "code",
   "execution_count": null,
   "metadata": {
    "collapsed": true
   },
   "outputs": [],
   "source": []
  },
  {
   "cell_type": "code",
   "execution_count": null,
   "metadata": {
    "collapsed": true
   },
   "outputs": [],
   "source": []
  },
  {
   "cell_type": "code",
   "execution_count": null,
   "metadata": {
    "collapsed": true
   },
   "outputs": [],
   "source": []
  },
  {
   "cell_type": "code",
   "execution_count": null,
   "metadata": {
    "collapsed": true
   },
   "outputs": [],
   "source": []
  },
  {
   "cell_type": "code",
   "execution_count": 14,
   "metadata": {},
   "outputs": [
    {
     "data": {
      "text/html": [
       "<div>\n",
       "<style>\n",
       "    .dataframe thead tr:only-child th {\n",
       "        text-align: right;\n",
       "    }\n",
       "\n",
       "    .dataframe thead th {\n",
       "        text-align: left;\n",
       "    }\n",
       "\n",
       "    .dataframe tbody tr th {\n",
       "        vertical-align: top;\n",
       "    }\n",
       "</style>\n",
       "<table border=\"1\" class=\"dataframe\">\n",
       "  <thead>\n",
       "    <tr style=\"text-align: right;\">\n",
       "      <th></th>\n",
       "      <th>t</th>\n",
       "      <th>a</th>\n",
       "      <th>b</th>\n",
       "      <th>c</th>\n",
       "    </tr>\n",
       "  </thead>\n",
       "  <tbody>\n",
       "    <tr>\n",
       "      <th>0</th>\n",
       "      <td>-0.000001</td>\n",
       "      <td>-0.017396</td>\n",
       "      <td>-0.151830</td>\n",
       "      <td>-0.005799</td>\n",
       "    </tr>\n",
       "    <tr>\n",
       "      <th>1</th>\n",
       "      <td>-0.000000</td>\n",
       "      <td>-0.033509</td>\n",
       "      <td>-0.148381</td>\n",
       "      <td>-0.002564</td>\n",
       "    </tr>\n",
       "    <tr>\n",
       "      <th>2</th>\n",
       "      <td>0.000001</td>\n",
       "      <td>-0.046159</td>\n",
       "      <td>-0.145253</td>\n",
       "      <td>0.005493</td>\n",
       "    </tr>\n",
       "    <tr>\n",
       "      <th>3</th>\n",
       "      <td>0.000002</td>\n",
       "      <td>-0.028993</td>\n",
       "      <td>-0.148149</td>\n",
       "      <td>-0.020875</td>\n",
       "    </tr>\n",
       "    <tr>\n",
       "      <th>4</th>\n",
       "      <td>0.000003</td>\n",
       "      <td>-0.020371</td>\n",
       "      <td>-0.143254</td>\n",
       "      <td>-0.020447</td>\n",
       "    </tr>\n",
       "  </tbody>\n",
       "</table>\n",
       "</div>"
      ],
      "text/plain": [
       "          t         a         b         c\n",
       "0 -0.000001 -0.017396 -0.151830 -0.005799\n",
       "1 -0.000000 -0.033509 -0.148381 -0.002564\n",
       "2  0.000001 -0.046159 -0.145253  0.005493\n",
       "3  0.000002 -0.028993 -0.148149 -0.020875\n",
       "4  0.000003 -0.020371 -0.143254 -0.020447"
      ]
     },
     "execution_count": 14,
     "metadata": {},
     "output_type": "execute_result"
    }
   ],
   "source": [
    "df.head()"
   ]
  },
  {
   "cell_type": "code",
   "execution_count": null,
   "metadata": {
    "collapsed": true
   },
   "outputs": [],
   "source": []
  },
  {
   "cell_type": "code",
   "execution_count": null,
   "metadata": {
    "collapsed": true
   },
   "outputs": [],
   "source": []
  },
  {
   "cell_type": "code",
   "execution_count": null,
   "metadata": {
    "collapsed": true
   },
   "outputs": [],
   "source": []
  },
  {
   "cell_type": "code",
   "execution_count": 13,
   "metadata": {},
   "outputs": [
    {
     "data": {
      "text/plain": [
       "-1.0"
      ]
     },
     "execution_count": 13,
     "metadata": {},
     "output_type": "execute_result"
    }
   ],
   "source": [
    "dt = df.t.diff().median()\n",
    "np.round(df.t.iloc[0] / dt)\n"
   ]
  },
  {
   "cell_type": "code",
   "execution_count": 6,
   "metadata": {},
   "outputs": [
    {
     "data": {
      "text/plain": [
       "'int16'"
      ]
     },
     "execution_count": 6,
     "metadata": {},
     "output_type": "execute_result"
    }
   ],
   "source": [
    "np.int16.__name__"
   ]
  },
  {
   "cell_type": "code",
   "execution_count": null,
   "metadata": {
    "collapsed": true
   },
   "outputs": [],
   "source": []
  },
  {
   "cell_type": "code",
   "execution_count": null,
   "metadata": {
    "collapsed": true
   },
   "outputs": [],
   "source": [
    "\"\"\"\n",
    "So here's what I want to do.  Change this into a bundler.  It takes a pico dataframe\n",
    "and some kwarg attributes.  It transforms the dataframe into int16 values and stores scales.\n",
    "It then saves the scaled dataframe and attributes to a netcdf file.\n",
    "I then want a loader that scales back to floats and populates tims.\n",
    "\n",
    "\"\"\"\n",
    "\n",
    "class Intifier:\n",
    "    def __init__(self):\n",
    "        self.scales = {'stuff': 'this is a really\\n long string\\nwith newlines and everythin'}\n",
    "        self.bits = 14\n",
    "        self.dtype = np.int16\n",
    "    def process(self, df):\n",
    "        \n",
    "#         zero_ind = df.t[df.t==0].index[0]\n",
    "#         delta_t = df.t.diff().median()\n",
    "#         print(zero_ind, delta_t)\n",
    "        df.drop('t', axis=1, inplace=True)\n",
    "        for col in df.columns:\n",
    "            scale = df.loc[:, col].abs().max() / 2 ** self.bits\n",
    "            self.scales[col] = scale\n",
    "            df.loc[:, col] = (df.loc[:, col] / scale).round().astype(self.dtype)\n",
    "\n",
    "df = p.df.copy()\n",
    "ii = Intifier()\n",
    "ii.process(df)\n",
    "df.dtypes\n",
    "\n",
    "da1 = xr.Dataset.from_dataframe(df)\n",
    "da1.attrs = ii.scales\n",
    "da2 = xr.Dataset.from_dataframe(p.df)\n",
    "da1.to_netcdf('my_file_int.nc')\n",
    "da2.to_netcdf('my_file_float.nc')\n",
    "\n",
    "            "
   ]
  },
  {
   "cell_type": "code",
   "execution_count": null,
   "metadata": {
    "collapsed": true
   },
   "outputs": [],
   "source": []
  },
  {
   "cell_type": "code",
   "execution_count": null,
   "metadata": {
    "collapsed": true
   },
   "outputs": [],
   "source": [
    "zero_ind = df.t[df.t==0].index[0]\n",
    "delta_t = df.t.diff().median()\n",
    "print(zero_ind, delta_t)"
   ]
  },
  {
   "cell_type": "code",
   "execution_count": null,
   "metadata": {
    "collapsed": true
   },
   "outputs": [],
   "source": [
    "xxx = xr.open_dataset('my_file_int.nc')\n",
    "yyy = xxx.to_dataframe()\n",
    "xxx.attrs"
   ]
  },
  {
   "cell_type": "code",
   "execution_count": null,
   "metadata": {
    "collapsed": true
   },
   "outputs": [],
   "source": [
    "yyy.head()"
   ]
  },
  {
   "cell_type": "code",
   "execution_count": null,
   "metadata": {
    "collapsed": true
   },
   "outputs": [],
   "source": []
  },
  {
   "cell_type": "code",
   "execution_count": null,
   "metadata": {
    "collapsed": true
   },
   "outputs": [],
   "source": [
    "scale = p.df.a.abs().max() / 2**14\n",
    "p.df.loc[:, 'a_int'] = (p.df.a / scale).round().astype(np.int16)\n",
    "p.df.loc[:, 'a_new'] = scale * p.df.a_int\n",
    "p.df.loc[:, 'res'] = p.df.a_new - p.df.a\n",
    "p.df.head()"
   ]
  },
  {
   "cell_type": "code",
   "execution_count": null,
   "metadata": {
    "collapsed": true
   },
   "outputs": [],
   "source": [
    "p.df.res.hist(bins=300)"
   ]
  },
  {
   "cell_type": "code",
   "execution_count": null,
   "metadata": {
    "collapsed": true
   },
   "outputs": [],
   "source": [
    "p.df.t.diff().mean()"
   ]
  },
  {
   "cell_type": "code",
   "execution_count": null,
   "metadata": {
    "collapsed": true
   },
   "outputs": [],
   "source": [
    "p.df.t.max()"
   ]
  },
  {
   "cell_type": "code",
   "execution_count": null,
   "metadata": {
    "collapsed": true
   },
   "outputs": [],
   "source": [
    "np.log10(2**64)"
   ]
  },
  {
   "cell_type": "code",
   "execution_count": null,
   "metadata": {
    "collapsed": true
   },
   "outputs": [],
   "source": [
    "np"
   ]
  },
  {
   "cell_type": "code",
   "execution_count": null,
   "metadata": {
    "collapsed": true
   },
   "outputs": [],
   "source": [
    "np.log10(float(2**32))"
   ]
  },
  {
   "cell_type": "code",
   "execution_count": null,
   "metadata": {
    "collapsed": true
   },
   "outputs": [],
   "source": [
    "177. / 8.3, 177. / 5.8\n"
   ]
  },
  {
   "cell_type": "code",
   "execution_count": null,
   "metadata": {
    "collapsed": true
   },
   "outputs": [],
   "source": [
    "30993752./5655943\n"
   ]
  },
  {
   "cell_type": "code",
   "execution_count": null,
   "metadata": {
    "collapsed": true
   },
   "outputs": [],
   "source": []
  }
 ],
 "metadata": {
  "kernelspec": {
   "display_name": "Python 3",
   "language": "python",
   "name": "python3"
  },
  "language_info": {
   "codemirror_mode": {
    "name": "ipython",
    "version": 3
   },
   "file_extension": ".py",
   "mimetype": "text/x-python",
   "name": "python",
   "nbconvert_exporter": "python",
   "pygments_lexer": "ipython3",
   "version": "3.6.2"
  }
 },
 "nbformat": 4,
 "nbformat_minor": 2
}
